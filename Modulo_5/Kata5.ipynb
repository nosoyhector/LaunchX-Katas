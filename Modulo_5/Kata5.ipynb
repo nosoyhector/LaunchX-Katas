{
  "cells": [
    {
      "cell_type": "markdown",
      "metadata": {},
      "source": [
        "# Ejercicio1 - Utilizar operadores aritméticos"
      ]
    },
    {
      "cell_type": "markdown",
      "metadata": {},
      "source": [
        "### Operadores aritméticos en Python\n",
        "Programa que pueda calcular la distancia entre dos planetas.  Comenzaremos usando dos distancias de planetas: Tierra (149.597.870 km) y Júpiter (778.547.200 km).\n"
      ]
    },
    {
      "cell_type": "code",
      "execution_count": 1,
      "metadata": {},
      "outputs": [],
      "source": [
        "# Crear variables para almacenar las dos distancias\n",
        "# ¡Asegúrate de quitar las comas!\n",
        "distancia_tierra = 149597870\n",
        "distancia_jupiter = 778547200"
      ]
    },
    {
      "cell_type": "markdown",
      "metadata": {},
      "source": [
        "### Realizar la operación\n",
        "\n",
        "Con los valores obtenidos, es el momento de añadir el código para realizar la operación. Restarás el primer planeta del segundo para determinar la distancia en kilómetros. A continuación, puedes convertir la distancia del kilómetro en millas dividiendo por `1.609344`."
      ]
    },
    {
      "cell_type": "code",
      "execution_count": 5,
      "metadata": {},
      "outputs": [
        {
          "name": "stdout",
          "output_type": "stream",
          "text": [
            "Distancia entre la tierra y Jupiter:\n",
            "628949330 kilometros \n",
            "390810995 millas\n"
          ]
        }
      ],
      "source": [
        "# Calcular la distancia entre planetas\n",
        "# 1 mi = 1,60934 km\n",
        "distancia_entre_planetas_km = abs( distancia_tierra - distancia_jupiter )\n",
        "print( f'Distancia entre la tierra y Jupiter:\\n{distancia_entre_planetas_km} kilometros \\n{round(distancia_entre_planetas_km / 1.609344)} millas' )"
      ]
    },
    {
      "cell_type": "markdown",
      "metadata": {},
      "source": [
        "## Ejercicio 2: convierte cadenas en números y usa valores absolutos\n",
        "\n",
        "### Crear una aplicación para trabajar con números y entrada de usuario"
      ]
    },
    {
      "cell_type": "markdown",
      "metadata": {},
      "source": [
        "### Lectura de valores"
      ]
    },
    {
      "cell_type": "code",
      "execution_count": 6,
      "metadata": {},
      "outputs": [],
      "source": [
        "# Almacenar las entradas del usuario\n",
        "#Pista: variable = input(\"¿Cuál es tu nombre?\")\n",
        "#8 planetas hay tres enanos que ignoraremos\n",
        "planetas = [ \"Mercurio\", \"Venus\", \"Tierra\", \"Marte\", \"Júpiter\", \"Saturno\", \"Urano\" , \"Neptuno\" ]\n",
        "distancia_planetas_del_sol = []\n",
        "for planeta in planetas:\n",
        "    distancia_planetas_del_sol.append( int ( input(f\"Ingresa en kilometros la distancia del {planeta} al Sol: \") ) )"
      ]
    },
    {
      "cell_type": "code",
      "execution_count": 8,
      "metadata": {},
      "outputs": [
        {
          "name": "stdout",
          "output_type": "stream",
          "text": [
            "['Mercurio', 'Venus', 'Tierra', 'Marte', 'Júpiter', 'Saturno', 'Urano', 'Neptuno']\n",
            "[57900000, 108200000, 149600000, 227900000, 778600000, 1433500000, 2872500000, 4495100000]\n"
          ]
        }
      ],
      "source": [
        "print ( planetas )\n",
        "print ( distancia_planetas_del_sol )"
      ]
    },
    {
      "cell_type": "markdown",
      "metadata": {},
      "source": [
        "### Realizar el cálculo\n",
        "Pedimos el nombre del primer planeta y posteriormente del segundo para calcular la distancia entre ellos"
      ]
    },
    {
      "cell_type": "code",
      "execution_count": 10,
      "metadata": {},
      "outputs": [
        {
          "name": "stdout",
          "output_type": "stream",
          "text": [
            "¿Nombre de los planetas de los cuales quieres conocer su distancia?\n",
            "La distancia en kilometros entre Tierra y Júpiter es de: 629000000\n",
            "La distancia en millas entre Tierra y Júpiter es de: 390843451\n"
          ]
        }
      ],
      "source": [
        "# Realizar el cálculo y determinar el valor absoluto\n",
        "print(\"¿Nombre de los planetas de los cuales quieres conocer su distancia?\")\n",
        "primer_planeta = input(\"Nombre del primer planeta: \").capitalize()\n",
        "segundo_planeta = input(\"Nombre del segundo planeta: \").capitalize()\n",
        "distancia_dos_planetas = abs ( distancia_planetas_del_sol[planetas.index( primer_planeta )] - distancia_planetas_del_sol[planetas.index( segundo_planeta.capitalize() )] )\n",
        "print(f'La distancia en kilometros entre {primer_planeta} y {segundo_planeta} es de: {distancia_dos_planetas}')\n",
        "# Convertir de KM a Millas\n",
        "print(f'La distancia en millas entre {primer_planeta} y {segundo_planeta} es de: {round(distancia_dos_planetas/1.60934)}')"
      ]
    },
    {
      "cell_type": "markdown",
      "metadata": {},
      "source": [
        "### Prueba tu aplicación\n",
        "Para probar el proyecto, ejecuta tu notebook. En la parte superior de vscode surgirá un cuadro de diálogo para que proporciones las distancias. Puede utilizar los datos de la tabla siguiente:\n",
        "\n",
        "| Planeta  | Distancia al sol |\n",
        "| ------- | ----------------- |\n",
        "| Mercurio | 57900000          |\n",
        "| Venus   | 108200000         |\n",
        "| Tierra   | 149600000         |\n",
        "| Marte    | 227900000         |\n",
        "| Júpiter | 778600000         |\n",
        "| Saturno  | 1433500000        |\n",
        "| Urano  | 2872500000        |\n",
        "| Neptuno | 4495100000        |"
      ]
    },
    {
      "cell_type": "markdown",
      "metadata": {},
      "source": [
        "<hr>\n",
        "<a style=\"background: #1f6feb; color: #fff; border-radius: 5px; padding: 15px 30px; display: inline-block; text-decoration: none;\" href=\"../Modulo_6/Kata6.ipynb\">\n",
        "Siguiente Kata ->\n",
        "</a>"
      ]
    }
  ],
  "metadata": {
    "interpreter": {
      "hash": "502cd6c3b6c9e666d195e1caff9d64ea12bf644e547a4c8fae84812082c54b6f"
    },
    "kernel_info": {
      "name": "conda-env-py37_default-py"
    },
    "kernelspec": {
      "display_name": "py37_default",
      "language": "python",
      "name": "python3"
    },
    "language_info": {
      "codemirror_mode": {
        "name": "ipython",
        "version": 3
      },
      "file_extension": ".py",
      "mimetype": "text/x-python",
      "name": "python",
      "nbconvert_exporter": "python",
      "pygments_lexer": "ipython3",
      "version": "3.8.10"
    },
    "nteract": {
      "version": "nteract-front-end@1.0.0"
    },
    "orig_nbformat": 4
  },
  "nbformat": 4,
  "nbformat_minor": 2
}
