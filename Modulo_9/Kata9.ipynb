{
  "cells": [
    {
      "cell_type": "markdown",
      "metadata": {},
      "source": [
        "# Ejercicio: Uso de funciones en Python"
      ]
    },
    {
      "cell_type": "markdown",
      "metadata": {},
      "source": [
        "### Ejercicio 1: Trabajar con argumentos en funciones\n",
        "\n",
        "Los argumentos requeridos en las funciones se utilizan cuando las funciones necesitan que esos argumentos funcionen correctamente. En este ejercicio, construirás un informe de combustible que requiere información de varias ubicaciones de combustible en todo el cohete.\n",
        "\n"
      ]
    },
    {
      "cell_type": "markdown",
      "metadata": {},
      "source": [
        "Comienza por crear una función que necesite tres lecturas de combustible y devuelva un informe:"
      ]
    },
    {
      "cell_type": "code",
      "execution_count": 77,
      "metadata": {},
      "outputs": [],
      "source": [
        "# Función para leer 3 tanques de combustible y muestre el promedio\n",
        "def informe_combustible(tanque1, tanque2, tanque3):\n",
        "    return f\"\"\"Combustible promedio en la nave: {(tanque1+tanque2+tanque3)/3}\n",
        "    Combustible en tanque 1: {tanque1}\n",
        "    Combustible en tanque 2: {tanque2}\n",
        "    Combustible en tanque 3: {tanque3}\n",
        "    \"\"\""
      ]
    },
    {
      "cell_type": "markdown",
      "metadata": {},
      "source": [
        "Ahora que hemos definido la función de informes, vamos a comprobarlo. Para esta misión, los tanques no están llenos:"
      ]
    },
    {
      "cell_type": "code",
      "execution_count": 78,
      "metadata": {},
      "outputs": [
        {
          "name": "stdout",
          "output_type": "stream",
          "text": [
            "Combustible promedio en la nave: 0.0\n",
            "    Combustible en tanque 1: 0\n",
            "    Combustible en tanque 2: 0\n",
            "    Combustible en tanque 3: 0\n",
            "    \n"
          ]
        }
      ],
      "source": [
        "\n",
        "# Llamamos a la función que genera el reporte print(funcion(tanque1, tanque2, tanque3))\n",
        "print(informe_combustible(0,0,0))"
      ]
    },
    {
      "cell_type": "markdown",
      "metadata": {},
      "source": [
        "En lugar de simplemente crear el informe, la función también está calculando el promedio. Mejora la legibilidad extrayendo el cálculo promedio de la función en una nueva función para que el promedio se pueda hacer de forma independiente:"
      ]
    },
    {
      "cell_type": "code",
      "execution_count": 79,
      "metadata": {},
      "outputs": [],
      "source": [
        "# Función promedio \n",
        "def promedio_combustible(args):\n",
        "    combustible = 0\n",
        "    for value in args:\n",
        "        combustible += value\n",
        "    return combustible/len(args)"
      ]
    },
    {
      "cell_type": "markdown",
      "metadata": {},
      "source": [
        "Ahora actualiza la función de informes para llamando a la nueva función del promedio:\n"
      ]
    },
    {
      "cell_type": "code",
      "execution_count": 80,
      "metadata": {},
      "outputs": [
        {
          "name": "stdout",
          "output_type": "stream",
          "text": [
            "Combustible promedio en la nave: 45.8\n",
            "Combustible en tanque 1: 10\n",
            "Combustible en tanque 2: 40\n",
            "Combustible en tanque 3: 20\n",
            "Combustible en tanque 4: 59\n",
            "Combustible en tanque 5: 100\n"
          ]
        }
      ],
      "source": [
        "# Actualiza la función\n",
        "def informe_combustible(*args):\n",
        "    informe = f'Combustible promedio en la nave: {promedio_combustible(args)}'\n",
        "    index = 1\n",
        "    for value in args:\n",
        "        informe += f'\\nCombustible en tanque {index}: {value}'\n",
        "        index += 1\n",
        "    return informe\n",
        "\n",
        "print(informe_combustible(10,40,20,59,100))"
      ]
    },
    {
      "cell_type": "markdown",
      "metadata": {},
      "source": [
        "## Ejercicio 2: Trabajo con argumentos de palabra clave"
      ]
    },
    {
      "cell_type": "markdown",
      "metadata": {},
      "source": [
        "### Ejercicio : Trabajar con argumentos de palabras clave en funciones\n",
        "En este ejercicio, construirás un informe de cohete que requiere varias piezas de información, como el tiempo hasta el destino, el combustible a la izquierda y el nombre del destino. Comienza por crear una función que creará un informe preciso de la misión:"
      ]
    },
    {
      "cell_type": "code",
      "execution_count": 7,
      "metadata": {},
      "outputs": [
        {
          "name": "stdout",
          "output_type": "stream",
          "text": [
            "\n",
            "    Datos de la misión\n",
            "    --------------------\n",
            "    Destino: Luna\n",
            "    Hora prelanzamiento: 10:30\n",
            "    Tiempo de vuelo: 80 minutos\n",
            "    Combustible total: 1100\n",
            "    Combustible tanque externo: 500\n",
            "    Combustible tanque interno: 600\n"
          ]
        }
      ],
      "source": [
        "# Función con un informe preciso de la misión. Considera hora de prelanzamiento, tiempo de vuelo, destino, tanque externo y tanque interno\n",
        "def informe_mision(destino, hora_prelanzamiento, tiempo_de_vuelo, tanque_externo, tanque_interno):\n",
        "    return f\"\"\"\n",
        "    Datos de la misión\n",
        "    --------------------\n",
        "    Destino: {destino}\n",
        "    Hora prelanzamiento: {hora_prelanzamiento}\n",
        "    Tiempo de vuelo: {tiempo_de_vuelo} minutos\n",
        "    Combustible total: {tanque_externo + tanque_interno}\n",
        "    Combustible tanque externo: {tanque_externo}\n",
        "    Combustible tanque interno: {tanque_interno}\"\"\"\n",
        "\n",
        "print( informe_mision(\"Luna\",\"10:30\",80, 500, 600) )"
      ]
    },
    {
      "cell_type": "markdown",
      "metadata": {},
      "source": [
        "La función es problemática porque no se puede adaptar para minutos adicionales o tanques adicionales de combustible. Hazlo más flexible permitiendo cualquier número de pasos basados en el tiempo y cualquier número de tanques. En lugar de usar `*args` y `**kwargs`, aprovecha el hecho de que puedes usar cualquier nombre que desees. Asegurate que la función sea más legible mediante el uso de nombres de variables que están asociados con las entradas, como `*minutes` y `**fuel_reservoirs`:"
      ]
    },
    {
      "cell_type": "code",
      "execution_count": 15,
      "metadata": {},
      "outputs": [
        {
          "name": "stdout",
          "output_type": "stream",
          "text": [
            "\n",
            "    Datos de la misión\n",
            "    --------------------\n",
            "    Destino: Luna\n",
            "    Hora prelanzamiento: 10:30\n",
            "    Tiempo de vuelo: 165 minutos\n",
            "    Combustible total: 2100\n"
          ]
        }
      ],
      "source": [
        "# Escribe tu nueva función de reporte considerando lo anterior\n",
        "def informe_mision(destino, hora_prelanzamiento, *minutos, **combustible):\n",
        "    total_minutos=0\n",
        "    for value in minutos:\n",
        "        total_minutos += int(value)\n",
        "    combustible_total = 0\n",
        "    for value in combustible:\n",
        "        combustible_total += combustible[value]\n",
        "    return f\"\"\"\n",
        "    Datos de la misión\n",
        "    --------------------\n",
        "    Destino: {destino}\n",
        "    Hora prelanzamiento: {hora_prelanzamiento}\n",
        "    Tiempo de vuelo: {total_minutos} minutos\n",
        "    Combustible total: {combustible_total}\"\"\"\n",
        "\n",
        "print( informe_mision(\"Luna\",\"10:30\",80, 50, 30, 5, tanque1=500, tanque2=600, tanque3=1000) )"
      ]
    },
    {
      "cell_type": "markdown",
      "metadata": {},
      "source": [
        "Debido a que el combustible que queda en los tanques es específico de cada tanque, actualiza la función para usar el nombre de cada tanque en el informe:"
      ]
    },
    {
      "cell_type": "code",
      "execution_count": 20,
      "metadata": {},
      "outputs": [
        {
          "name": "stdout",
          "output_type": "stream",
          "text": [
            "\n",
            "    Datos de la misión\n",
            "    --------------------\n",
            "    Destino: Luna\n",
            "    Hora prelanzamiento: 10:30\n",
            "    Tiempo de vuelo: 185 minutos\n",
            "    Combustible total: 2134\n",
            "\tCombustible en tanque1: 500\n",
            "\tCombustible en tanque2: 600\n",
            "\tCombustible en tanque3: 1000\n",
            "\tCombustible en botellas: 34\n"
          ]
        }
      ],
      "source": [
        "# Escribe tu nueva función\n",
        "def informe_mision(destino, hora_prelanzamiento, *minutos, **combustible):\n",
        "    total_minutos=0\n",
        "    for value in minutos:\n",
        "        total_minutos += int(value)\n",
        "    combustible_total = 0\n",
        "    lista_combustible = \"\"\n",
        "    for value in combustible:\n",
        "        combustible_total += combustible[value]\n",
        "        lista_combustible += f\"\\n\\tCombustible en {value}: {combustible[value]}\"\n",
        "\n",
        "    return f\"\"\"\n",
        "    Datos de la misión\n",
        "    --------------------\n",
        "    Destino: {destino}\n",
        "    Hora prelanzamiento: {hora_prelanzamiento}\n",
        "    Tiempo de vuelo: {total_minutos} minutos\n",
        "    Combustible total: {combustible_total}\"\"\" + lista_combustible\n",
        "\n",
        "print( informe_mision(\"Luna\",\"10:30\",80, 50, 30, 5, 20, tanque1=500, tanque2=600, tanque3=1000, botellas=34) )"
      ]
    },
    {
      "cell_type": "markdown",
      "metadata": {},
      "source": [
        "<hr>\n",
        "<a style=\"background: #1f6feb; color: #fff; border-radius: 5px; padding: 15px 30px; display: inline-block; text-decoration: none;\" href=\"../Modulo_10/Kata10.ipynb\">\n",
        "Siguiente Kata ->\n",
        "</a>"
      ]
    }
  ],
  "metadata": {
    "interpreter": {
      "hash": "205095b8b86ea82a021a8fc2ffba2b3bc9f8d0be25999901963b225939f75778"
    },
    "kernelspec": {
      "display_name": "Python 3.8.10 64-bit ('tmp': conda)",
      "name": "python3"
    },
    "language_info": {
      "codemirror_mode": {
        "name": "ipython",
        "version": 3
      },
      "file_extension": ".py",
      "mimetype": "text/x-python",
      "name": "python",
      "nbconvert_exporter": "python",
      "pygments_lexer": "ipython3",
      "version": "3.9.7"
    },
    "nteract": {
      "version": "nteract-front-end@1.0.0"
    },
    "orig_nbformat": 4
  },
  "nbformat": 4,
  "nbformat_minor": 2
}
