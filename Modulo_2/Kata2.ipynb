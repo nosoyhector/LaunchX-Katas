{
 "cells": [
  {
   "cell_type": "markdown",
   "metadata": {},
   "source": [
    "# Creación de entorno virtual\n",
    "\n",
    "![](../images/Modulo_2_env.png)"
   ]
  },
  {
   "cell_type": "markdown",
   "metadata": {},
   "source": [
    "<hr>\n",
    "<a style=\"background: #1f6feb; color: #fff; border-radius: 5px; padding: 15px 30px; display: inline-block; text-decoration: none;\" href=\"../Modulo_3/Kata3.ipynb\">\n",
    "Siguiente Kata ->\n",
    "</a>"
   ]
  }
 ],
 "metadata": {
  "language_info": {
   "name": "python"
  },
  "orig_nbformat": 4
 },
 "nbformat": 4,
 "nbformat_minor": 2
}
